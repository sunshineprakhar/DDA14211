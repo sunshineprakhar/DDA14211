{
  "nbformat": 4,
  "nbformat_minor": 0,
  "metadata": {
    "colab": {
      "name": "Assignment 1.ipynb",
      "provenance": [],
      "collapsed_sections": [],
      "authorship_tag": "ABX9TyM/OSLiXRdvaq/2szXbVMMr",
      "include_colab_link": true
    },
    "kernelspec": {
      "name": "python3",
      "display_name": "Python 3"
    },
    "language_info": {
      "name": "python"
    }
  },
  "cells": [
    {
      "cell_type": "markdown",
      "metadata": {
        "id": "view-in-github",
        "colab_type": "text"
      },
      "source": [
        "<a href=\"https://colab.research.google.com/github/sunshineprakhar/DDA14211/blob/Time-Series/Assignment_1.ipynb\" target=\"_parent\"><img src=\"https://colab.research.google.com/assets/colab-badge.svg\" alt=\"Open In Colab\"/></a>"
      ]
    },
    {
      "cell_type": "markdown",
      "source": [
        "# **Symbolic Aggregate approXimation**\n",
        "\n",
        "**Basic Idea of SAX start with PAA.**\n",
        "\n",
        "In **Piecewise Aggregate Approximation**, each sequence\n",
        "of time series data is divided into k segments with\n",
        "equal length and the average value of each segment is\n",
        "used as a coordinate of a k-dimensional feature vector.\n",
        "The advantages of this transform are that \n",
        "1.   it is very fast and easy to implement, and\n",
        "2.   the index can be build in linear time.\n",
        "\n",
        "And to reduce the time series from n\n",
        "dimensions to k dimensions, the data is divided into k\n",
        "equal sized segments."
      ],
      "metadata": {
        "id": "V5GcjxrnndDQ"
      }
    },
    {
      "cell_type": "code",
      "execution_count": 3,
      "metadata": {
        "colab": {
          "base_uri": "https://localhost:8080/",
          "height": 235
        },
        "id": "JG53G30Cfi6z",
        "outputId": "dea3a468-5f40-43ad-aba6-4285100ec423"
      },
      "outputs": [
        {
          "output_type": "execute_result",
          "data": {
            "text/html": [
              "\n",
              "  <div id=\"df-e2823d9b-b229-467b-b8e8-a7b920b5e85c\">\n",
              "    <div class=\"colab-df-container\">\n",
              "      <div>\n",
              "<style scoped>\n",
              "    .dataframe tbody tr th:only-of-type {\n",
              "        vertical-align: middle;\n",
              "    }\n",
              "\n",
              "    .dataframe tbody tr th {\n",
              "        vertical-align: top;\n",
              "    }\n",
              "\n",
              "    .dataframe thead th {\n",
              "        text-align: right;\n",
              "    }\n",
              "</style>\n",
              "<table border=\"1\" class=\"dataframe\">\n",
              "  <thead>\n",
              "    <tr style=\"text-align: right;\">\n",
              "      <th></th>\n",
              "      <th>Passengers</th>\n",
              "    </tr>\n",
              "    <tr>\n",
              "      <th>Month</th>\n",
              "      <th></th>\n",
              "    </tr>\n",
              "  </thead>\n",
              "  <tbody>\n",
              "    <tr>\n",
              "      <th>1949-01</th>\n",
              "      <td>112</td>\n",
              "    </tr>\n",
              "    <tr>\n",
              "      <th>1949-02</th>\n",
              "      <td>118</td>\n",
              "    </tr>\n",
              "    <tr>\n",
              "      <th>1949-03</th>\n",
              "      <td>132</td>\n",
              "    </tr>\n",
              "    <tr>\n",
              "      <th>1949-04</th>\n",
              "      <td>129</td>\n",
              "    </tr>\n",
              "    <tr>\n",
              "      <th>1949-05</th>\n",
              "      <td>121</td>\n",
              "    </tr>\n",
              "  </tbody>\n",
              "</table>\n",
              "</div>\n",
              "      <button class=\"colab-df-convert\" onclick=\"convertToInteractive('df-e2823d9b-b229-467b-b8e8-a7b920b5e85c')\"\n",
              "              title=\"Convert this dataframe to an interactive table.\"\n",
              "              style=\"display:none;\">\n",
              "        \n",
              "  <svg xmlns=\"http://www.w3.org/2000/svg\" height=\"24px\"viewBox=\"0 0 24 24\"\n",
              "       width=\"24px\">\n",
              "    <path d=\"M0 0h24v24H0V0z\" fill=\"none\"/>\n",
              "    <path d=\"M18.56 5.44l.94 2.06.94-2.06 2.06-.94-2.06-.94-.94-2.06-.94 2.06-2.06.94zm-11 1L8.5 8.5l.94-2.06 2.06-.94-2.06-.94L8.5 2.5l-.94 2.06-2.06.94zm10 10l.94 2.06.94-2.06 2.06-.94-2.06-.94-.94-2.06-.94 2.06-2.06.94z\"/><path d=\"M17.41 7.96l-1.37-1.37c-.4-.4-.92-.59-1.43-.59-.52 0-1.04.2-1.43.59L10.3 9.45l-7.72 7.72c-.78.78-.78 2.05 0 2.83L4 21.41c.39.39.9.59 1.41.59.51 0 1.02-.2 1.41-.59l7.78-7.78 2.81-2.81c.8-.78.8-2.07 0-2.86zM5.41 20L4 18.59l7.72-7.72 1.47 1.35L5.41 20z\"/>\n",
              "  </svg>\n",
              "      </button>\n",
              "      \n",
              "  <style>\n",
              "    .colab-df-container {\n",
              "      display:flex;\n",
              "      flex-wrap:wrap;\n",
              "      gap: 12px;\n",
              "    }\n",
              "\n",
              "    .colab-df-convert {\n",
              "      background-color: #E8F0FE;\n",
              "      border: none;\n",
              "      border-radius: 50%;\n",
              "      cursor: pointer;\n",
              "      display: none;\n",
              "      fill: #1967D2;\n",
              "      height: 32px;\n",
              "      padding: 0 0 0 0;\n",
              "      width: 32px;\n",
              "    }\n",
              "\n",
              "    .colab-df-convert:hover {\n",
              "      background-color: #E2EBFA;\n",
              "      box-shadow: 0px 1px 2px rgba(60, 64, 67, 0.3), 0px 1px 3px 1px rgba(60, 64, 67, 0.15);\n",
              "      fill: #174EA6;\n",
              "    }\n",
              "\n",
              "    [theme=dark] .colab-df-convert {\n",
              "      background-color: #3B4455;\n",
              "      fill: #D2E3FC;\n",
              "    }\n",
              "\n",
              "    [theme=dark] .colab-df-convert:hover {\n",
              "      background-color: #434B5C;\n",
              "      box-shadow: 0px 1px 3px 1px rgba(0, 0, 0, 0.15);\n",
              "      filter: drop-shadow(0px 1px 2px rgba(0, 0, 0, 0.3));\n",
              "      fill: #FFFFFF;\n",
              "    }\n",
              "  </style>\n",
              "\n",
              "      <script>\n",
              "        const buttonEl =\n",
              "          document.querySelector('#df-e2823d9b-b229-467b-b8e8-a7b920b5e85c button.colab-df-convert');\n",
              "        buttonEl.style.display =\n",
              "          google.colab.kernel.accessAllowed ? 'block' : 'none';\n",
              "\n",
              "        async function convertToInteractive(key) {\n",
              "          const element = document.querySelector('#df-e2823d9b-b229-467b-b8e8-a7b920b5e85c');\n",
              "          const dataTable =\n",
              "            await google.colab.kernel.invokeFunction('convertToInteractive',\n",
              "                                                     [key], {});\n",
              "          if (!dataTable) return;\n",
              "\n",
              "          const docLinkHtml = 'Like what you see? Visit the ' +\n",
              "            '<a target=\"_blank\" href=https://colab.research.google.com/notebooks/data_table.ipynb>data table notebook</a>'\n",
              "            + ' to learn more about interactive tables.';\n",
              "          element.innerHTML = '';\n",
              "          dataTable['output_type'] = 'display_data';\n",
              "          await google.colab.output.renderOutput(dataTable, element);\n",
              "          const docLink = document.createElement('div');\n",
              "          docLink.innerHTML = docLinkHtml;\n",
              "          element.appendChild(docLink);\n",
              "        }\n",
              "      </script>\n",
              "    </div>\n",
              "  </div>\n",
              "  "
            ],
            "text/plain": [
              "         Passengers\n",
              "Month              \n",
              "1949-01         112\n",
              "1949-02         118\n",
              "1949-03         132\n",
              "1949-04         129\n",
              "1949-05         121"
            ]
          },
          "metadata": {},
          "execution_count": 3
        }
      ],
      "source": [
        "import numpy as np\n",
        "import pandas as pd\n",
        "import matplotlib.pyplot as plt\n",
        "from tslearn.preprocessing import TimeSeriesScalerMeanVariance\n",
        "from tslearn.piecewise import SymbolicAggregateApproximation\n",
        "from tslearn.piecewise import PiecewiseAggregateApproximation\n",
        "\n",
        "df= pd.read_csv('airline-passengers.csv', header=0, index_col=0)\n",
        "df.head()\n"
      ]
    },
    {
      "cell_type": "code",
      "source": [
        "df_Series=df.iloc[:,0]\n",
        "dataset = df_Series.values\n",
        "dataset=dataset.reshape(1, 144)\n",
        "scaler = TimeSeriesScalerMeanVariance(mu=0., std=1.)\n",
        "dataset = scaler.fit_transform(dataset)\n",
        "paa = PiecewiseAggregateApproximation(n_segments=12)\n",
        "paa_dataset_inv = paa.inverse_transform(paa.fit_transform(dataset))\n",
        "plt.plot(dataset[0].ravel(),label='Raw Time Series')\n",
        "plt.plot(paa_dataset_inv[0].ravel(), label='PAA')\n",
        "plt.legend(loc='best')\n",
        "plt.show()"
      ],
      "metadata": {
        "colab": {
          "base_uri": "https://localhost:8080/",
          "height": 266
        },
        "id": "EiMqiAk4pW04",
        "outputId": "48d36eca-ad59-4112-c660-808da8f3809e"
      },
      "execution_count": 4,
      "outputs": [
        {
          "output_type": "display_data",
          "data": {
            "image/png": "[encoded data removed]",
            "text/plain": [
              "<Figure size 432x288 with 1 Axes>"
            ]
          },
          "metadata": {
            "needs_background": "light"
          }
        }
      ]
    },
    {
      "cell_type": "markdown",
      "source": [
        "In **Symbolic Aggregate approXimation**, firstly the data is transformed into the PAA representation and then the transformed PAA\n",
        "representation is symbolized into a sequence of discrete strings.\n",
        "\n",
        "Breakpoints may be\n",
        "determined by looking them up in a statistical table\n",
        "\n",
        "B![statistical.JPG](data:image/jpeg;base64,/9j/4AAQSkZJRgABAQEAYABgAAD/4RDQRXhpZgAATU0AKgAAAAgABAE7AAIAAAADSFAAAIdpAAQAAAABAAAISpydAAEAAAAGAAAQwuocAAcAAAgMAAAAPgAAAAAc6gAAAAgAAAAAAAAAAAAAAAAAAAAAAAAAAAAAAAAAAAAAAAAAAAAAAAAAAAAAAAAAAAAAAAAAAAAAAAAAAAAAAAAAAAAAAAAAAAAAAAAAAAAAAAAAAAAAAAAAAAAAAAAAAAAAAAAAAAAAAAAAAAAAAAAAAAAAAAAAAAAAAAAAAAAAAAAAAAAAAAAAAAAAAAAAAAAAAAAAAAAAAAAAAAAAAAAAAAAAAAAAAAAAAAAAAAAAAAAAAAAAAAAAAAAAAAAAAAAAAAAAAAAAAAAAAAAAAAAAAAAAAAAAAAAAAAAAAAAAAAAAAAAAAAAAAAAAAAAAAAAAAAAAAAAAAAAAAAAAAAAAAAAAAAAAAAAAAAAAAAAAAAAAAAAAAAAAAAAAAAAAAAAAAAAAAAAAAAAAAAAAAAAAAAAAAAAAAAAAAAAAAAAAAAAAAAAAAAAAAAAAAAAAAAAAAAAAAAAAAAAAAAAAAAAAAAAAAAAAAAAAAAAAAAAAAAAAAAAAAAAAAAAAAAAAAAAAAAAAAAAAAAAAAAAAAAAAAAAAAAAAAAAAAAAAAAAAAAAAAAAAAAAAAAAAAAAAAAAAAAAAAAAAAAAAAAAAAAAAAAAAAAAAAAAAAAAAAAAAAAAAAAAAAAAAAAAAAAAAAAAAAAAAAAAAAAAAAAAAAAAAAAAAAAAAAAAAAAAAAAAAAAAAAAAAAAAAAAAAAAAAAAAAAAAAAAAAAAAAAAAAAAAAAAAAAAAAAAAAAAAAAAAAAAAAAAAAAAAAAAAAAAAAAAAAAAAAAAAAAAAAAAAAAAAAAAAAAAAAAAAAAAAAAAAAAAAAAAAAAAAAAAAAAAAAAAAAAAAAAAAAAAAAAAAAAAAAAAAAAAAAAAAAAAAAAAAAAAAAAAAAAAAAAAAAAAAAAAAAAAAAAAAAAAAAAAAAAAAAAAAAAAAAAAAAAAAAAAAAAAAAAAAAAAAAAAAAAAAAAAAAAAAAAAAAAAAAAAAAAAAAAAAAAAAAAAAAAAAAAAAAAAAAAAAAAAAAAAAAAAAAAAAAAAAAAAAAAAAAAAAAAAAAAAAAAAAAAAAAAAAAAAAAAAAAAAAAAAAAAAAAAAAAAAAAAAAAAAAAAAAAAAAAAAAAAAAAAAAAAAAAAAAAAAAAAAAAAAAAAAAAAAAAAAAAAAAAAAAAAAAAAAAAAAAAAAAAAAAAAAAAAAAAAAAAAAAAAAAAAAAAAAAAAAAAAAAAAAAAAAAAAAAAAAAAAAAAAAAAAAAAAAAAAAAAAAAAAAAAAAAAAAAAAAAAAAAAAAAAAAAAAAAAAAAAAAAAAAAAAAAAAAAAAAAAAAAAAAAAAAAAAAAAAAAAAAAAAAAAAAAAAAAAAAAAAAAAAAAAAAAAAAAAAAAAAAAAAAAAAAAAAAAAAAAAAAAAAAAAAAAAAAAAAAAAAAAAAAAAAAAAAAAAAAAAAAAAAAAAAAAAAAAAAAAAAAAAAAAAAAAAAAAAAAAAAAAAAAAAAAAAAAAAAAAAAAAAAAAAAAAAAAAAAAAAAAAAAAAAAAAAAAAAAAAAAAAAAAAAAAAAAAAAAAAAAAAAAAAAAAAAAAAAAAAAAAAAAAAAAAAAAAAAAAAAAAAAAAAAAAAAAAAAAAAAAAAAAAAAAAAAAAAAAAAAAAAAAAAAAAAAAAAAAAAAAAAAAAAAAAAAAAAAAAAAAAAAAAAAAAAAAAAAAAAAAAAAAAAAAAAAAAAAAAAAAAAAAAAAAAAAAAAAAAAAAAAAAAAAAAAAAAAAAAAAAAAAAAAAAAAAAAAAAAAAAAAAAAAAAAAAAAAAAAAAAAAAAAAAAAAAAAAAAAAAAAAAAAAAAAAAAAAAAAAAAAAAAAAAAAAAAAAAAAAAAAAAAAAAAAAAAAAAAAAAAAAAAAAAAAAAAAAAAAAAAAAAAAAAAAAAAAAAAAAAAAAAAAAAAAAAAAAAAAAAAAAAAAAAAAAAAAAAAAAAAAAAAAAAAAAAAAAAAAAAAAAAAAAAAAAAAAAAAAAAAAAAAAAAAAAAAAAAAAAAAAAAAAAAAAAAAAAAAAAAAAAAAAAAAAAAAAAAAAAAAAAAAAAAAAAAAAAAAAAAAAAAAAAAAAAAAAAAAAAAAAAAAAAAAAAAAAAAAAAAAAAAAAAAAAAAAAAAAAAAAAAAAAAAAAAAAAAAAAAAAAAAAAAAAAAAAAAAAAAAAAAAAAAAAAAAAAAAAAAAAAAAAAAAAAAAAAAAAAAAAAAAAAAAAAAAAAAAAAAAAAAAAAAAAAAAAAAAAAAAAAAAAAAAAAAAAAAAAAAAAAAAAAAAAAAAAAAAAAAAAAAAAAAAAAAAAAAAAAAAAAAAAAAAAAAAAAAAAAAAAAAAAAAAAAAAAAAAAAAAAAAAAAAAAAAAAAAAAAAAAAAAAAAAAAAAAAAAAAAAAAAAAAAAAAAAAAAAAAAAAAAAAAAAAAAAAAAAAAAAAAAAAAAAAAAAAAAAAAAAAAAAAAAAAAAAAAAAAAAAAAAAAAAAAAAAAAAAAAAAAAAAAAAAAAAAAAAAAAAAAAAAAAAAAAAAAAAAAAAAAAAAAAAAAAAAAAAAAAAAAAAAAAAAAAAAAAAAAAAAAAAAAAAAAAAAAAAAAAAAAAAAAAAAAAAAAAAAAAAAAAAAAAAAAAAAAAAAAAAAAAAAAAAAAAAAAAAAAAAAAAAAAAAAAAAAAAAAAAAAAAAAAAAAAAAAAAAAAAAAAAAAAAAAAAAAAAAAAAAAAAAAAAAAAAAAAAAAAAAAAAAAAAAAAAAAAAAFkAMAAgAAABQAABCYkAQAAgAAABQAABCskpEAAgAAAAM2MAAAkpIAAgAAAAM2MAAA6hwABwAACAwAAAiMAAAAABzqAAAACAAAAAAAAAAAAAAAAAAAAAAAAAAAAAAAAAAAAAAAAAAAAAAAAAAAAAAAAAAAAAAAAAAAAAAAAAAAAAAAAAAAAAAAAAAAAAAAAAAAAAAAAAAAAAAAAAAAAAAAAAAAAAAAAAAAAAAAAAAAAAAAAAAAAAAAAAAAAAAAAAAAAAAAAAAAAAAAAAAAAAAAAAAAAAAAAAAAAAAAAAAAAAAAAAAAAAAAAAAAAAAAAAAAAAAAAAAAAAAAAAAAAAAAAAAAAAAAAAAAAAAAAAAAAAAAAAAAAAAAAAAAAAAAAAAAAAAAAAAAAAAAAAAAAAAAAAAAAAAAAAAAAAAAAAAAAAAAAAAAAAAAAAAAAAAAAAAAAAAAAAAAAAAAAAAAAAAAAAAAAAAAAAAAAAAAAAAAAAAAAAAAAAAAAAAAAAAAAAAAAAAAAAAAAAAAAAAAAAAAAAAAAAAAAAAAAAAAAAAAAAAAAAAAAAAAAAAAAAAAAAAAAAAAAAAAAAAAAAAAAAAAAAAAAAAAAAAAAAAAAAAAAAAAAAAAAAAAAAAAAAAAAAAAAAAAAAAAAAAAAAAAAAAAAAAAAAAAAAAAAAAAAAAAAAAAAAAAAAAAAAAAAAAAAAAAAAAAAAAAAAAAAAAAAAAAAAAAAAAAAAAAAAAAAAAAAAAAAAAAAAAAAAAAAAAAAAAAAAAAAAAAAAAAAAAAAAAAAAAAAAAAAAAAAAAAAAAAAAAAAAAAAAAAAAAAAAAAAAAAAAAAAAAAAAAAAAAAAAAAAAAAAAAAAAAAAAAAAAAAAAAAAAAAAAAAAAAAAAAAAAAAAAAAAAAAAAAAAAAAAAAAAAAAAAAAAAAAAAAAAAAAAAAAAAAAAAAAAAAAAAAAAAAAAAAAAAAAAAAAAAAAAAAAAAAAAAAAAAAAAAAAAAAAAAAAAAAAAAAAAAAAAAAAAAAAAAAAAAAAAAAAAAAAAAAAAAAAAAAAAAAAAAAAAAAAAAAAAAAAAAAAAAAAAAAAAAAAAAAAAAAAAAAAAAAAAAAAAAAAAAAAAAAAAAAAAAAAAAAAAAAAAAAAAAAAAAAAAAAAAAAAAAAAAAAAAAAAAAAAAAAAAAAAAAAAAAAAAAAAAAAAAAAAAAAAAAAAAAAAAAAAAAAAAAAAAAAAAAAAAAAAAAAAAAAAAAAAAAAAAAAAAAAAAAAAAAAAAAAAAAAAAAAAAAAAAAAAAAAAAAAAAAAAAAAAAAAAAAAAAAAAAAAAAAAAAAAAAAAAAAAAAAAAAAAAAAAAAAAAAAAAAAAAAAAAAAAAAAAAAAAAAAAAAAAAAAAAAAAAAAAAAAAAAAAAAAAAAAAAAAAAAAAAAAAAAAAAAAAAAAAAAAAAAAAAAAAAAAAAAAAAAAAAAAAAAAAAAAAAAAAAAAAAAAAAAAAAAAAAAAAAAAAAAAAAAAAAAAAAAAAAAAAAAAAAAAAAAAAAAAAAAAAAAAAAAAAAAAAAAAAAAAAAAAAAAAAAAAAAAAAAAAAAAAAAAAAAAAAAAAAAAAAAAAAAAAAAAAAAAAAAAAAAAAAAAAAAAAAAAAAAAAAAAAAAAAAAAAAAAAAAAAAAAAAAAAAAAAAAAAAAAAAAAAAAAAAAAAAAAAAAAAAAAAAAAAAAAAAAAAAAAAAAAAAAAAAAAAAAAAAAAAAAAAAAAAAAAAAAAAAAAAAAAAAAAAAAAAAAAAAAAAAAAAAAAAAAAAAAAAAAAAAAAAAAAAAAAAAAAAAAAAAAAAAAAAAAAAAAAAAAAAAAAAAAAAAAAAAAAAAAAAAAAAAAAAAAAAAAAAAAAAAAAAAAAAAAAAAAAAAAAAAAAAAAAAAAAAAAAAAAAAAAAAAAAAAAAAAAAAAAAAAAAAAAAAAAAAAAAAAAAAAAAAAAAAAAAAAAAAAAAAAAAAAAAAAAAAAAAAAAAAAAAAAAAAAAAAAAAAAAAAAAAAAAAAAAAAAAAAAAAAAAAAAAAAAAAAAAAAAAAAAAAAAAAAAAAAAAAAAAAAAAAAAAAAAAAAAAAAAAAAAAAAAAAAAAAAAAAAAAAAAAAAAAAAAAAAAAAAAAAAAAAAAAAAAAAAAAAAAAAAAAAAAAAAAAAAAAAAAAAAAAAAAAAAAAAAAAAAAAAAAAAAAAAAAAAAAAAAAAAAAAAAAAAAAAAAAAAAAAAAAAAAAAAAAAAAAAAAAAAAAAAAAAAAAAAAAAAAAAAAAAAAAAAAAAAAAAAAAAAAAAAAAAAAAAAAAAAAAAAAAAAAAAAAAAAAAAAAAAAAAAAAAAAAAAAAAAAAAAAAAAAAAAAAAAAAAAAAAAAAAAAAAAAAAAAAAAAAAAAAAAAAAAAAAAAAAAAAAAAAAAAAAAAAAAAAAAAAAAAAAAAAAAAAAAAAAAAAAAAAAAAAAAAAAAAAAAAAAAAAAAAAAAAAAAAAAAAAAAAAAAAAAAAAAAAAAAAAAAAAAAAAAAAAAAAAAAAAAAAAAAAAAAAAAAAAAAAAAAAAAAAAAAAAAAAAAAAAAAAAAAAAAAAAAAAAAAAAAAAAAAAAAAAAAAAAAAAAAAAAAAAAAAAAAAAAAAAAAAAAAAAAAAAAAAAAAAAAAAAAAAAAAAAAAAAAAAAAAAAAAAAAAAAAAAAAAAAAAAAAAAAAAAAAAAAAAAAAAAAAAAAAAAAAAAAAAAAAAAAAAAAAAAAAAAAAAAAAAAAAAAAAAAAAAAAAAAAAAAAAAAAAAAAAAAAAAAAAAAAAAAAAAAAAAAAAAAAAAAAAAAAAAAAAAAAAAAMjAyMjowMjowOCAyMDoxNzoxMgAyMDIyOjAyOjA4IDIwOjE3OjEyAAAASABQAAAA/+ELFWh0dHA6Ly9ucy5hZG9iZS5jb20veGFwLzEuMC8APD94cGFja2V0IGJlZ2luPSfvu78nIGlkPSdXNU0wTXBDZWhpSHpyZVN6TlRjemtjOWQnPz4NCjx4OnhtcG1ldGEgeG1sbnM6eD0iYWRvYmU6bnM6bWV0YS8iPjxyZGY6UkRGIHhtbG5zOnJkZj0iaHR0cDovL3d3dy53My5vcmcvMTk5OS8wMi8yMi1yZGYtc3ludGF4LW5zIyI+PHJkZjpEZXNjcmlwdGlvbiByZGY6YWJvdXQ9InV1aWQ6ZmFmNWJkZDUtYmEzZC0xMWRhLWFkMzEtZDMzZDc1MTgyZjFiIiB4bWxuczpkYz0iaHR0cDovL3B1cmwub3JnL2RjL2VsZW1lbnRzLzEuMS8iLz48cmRmOkRlc2NyaXB0aW9uIHJkZjphYm91dD0idXVpZDpmYWY1YmRkNS1iYTNkLTExZGEtYWQzMS1kMzNkNzUxODJmMWIiIHhtbG5zOnhtcD0iaHR0cDovL25zLmFkb2JlLmNvbS94YXAvMS4wLyI+PHhtcDpDcmVhdGVEYXRlPjIwMjItMDItMDhUMjA6MTc6MTIuNTk3PC94bXA6Q3JlYXRlRGF0ZT48L3JkZjpEZXNjcmlwdGlvbj48cmRmOkRlc2NyaXB0aW9uIHJkZjphYm91dD0idXVpZDpmYWY1YmRkNS1iYTNkLTExZGEtYWQzMS1kMzNkNzUxODJmMWIiIHhtbG5zOmRjPSJodHRwOi8vcHVybC5vcmcvZGMvZWxlbWVudHMvMS4xLyI+PGRjOmNyZWF0b3I+PHJkZjpTZXEgeG1sbnM6cmRmPSJodHRwOi8vd3d3LnczLm9yZy8xOTk5LzAyLzIyLXJkZi1zeW50YXgtbnMjIj48cmRmOmxpPkhQPC9yZGY6bGk+PC9yZGY6U2VxPg0KCQkJPC9kYzpjcmVhdG9yPjwvcmRmOkRlc2NyaXB0aW9uPjwvcmRmOlJERj48L3g6eG1wbWV0YT4NCiAgICAgICAgICAgICAgICAgICAgICAgICAgICAgICAgICAgICAgICAgICAgICAgICAgICAgICAgICAgICAgICAgICAgICAgICAgICAgICAgICAgICAgICAgICAgICAgICAgICAKICAgICAgICAgICAgICAgICAgICAgICAgICAgICAgICAgICAgICAgICAgICAgICAgICAgICAgICAgICAgICAgICAgICAgICAgICAgICAgICAgICAgICAgICAgICAgICAgICAgIAogICAgICAgICAgICAgICAgICAgICAgICAgICAgICAgICAgICAgICAgICAgICAgICAgICAgICAgICAgICAgICAgICAgICAgICAgICAgICAgICAgICAgICAgICAgICAgICAgICAgCiAgICAgICAgICAgICAgICAgICAgICAgICAgICAgICAgICAgICAgICAgICAgICAgICAgICAgICAgICAgICAgICAgICAgICAgICAgICAgICAgICAgICAgICAgICAgICAgICAgICAKICAgICAgICAgICAgICAgICAgICAgICAgICAgICAgICAgICAgICAgICAgICAgICAgICAgICAgICAgICAgICAgICAgICAgICAgICAgICAgICAgICAgICAgICAgICAgICAgICAgIAogICAgICAgICAgICAgICAgICAgICAgICAgICAgICAgICAgICAgICAgICAgICAgICAgICAgICAgICAgICAgICAgICAgICAgICAgICAgICAgICAgICAgICAgICAgICAgICAgICAgCiAgICAgICAgICAgICAgICAgICAgICAgICAgICAgICAgICAgICAgICAgICAgICAgICAgICAgICAgICAgICAgICAgICAgICAgICAgICAgICAgICAgICAgICAgICAgICAgICAgICAKICAgICAgICAgICAgICAgICAgICAgICAgICAgICAgICAgICAgICAgICAgICAgICAgICAgICAgICAgICAgICAgICAgICAgICAgICAgICAgICAgICAgICAgICAgICAgICAgICAgIAogICAgICAgICAgICAgICAgICAgICAgICAgICAgICAgICAgICAgICAgICAgICAgICAgICAgICAgICAgICAgICAgICAgICAgICAgICAgICAgICAgICAgICAgICAgICAgICAgICAgCiAgICAgICAgICAgICAgICAgICAgICAgICAgICAgICAgICAgICAgICAgICAgICAgICAgICAgICAgICAgICAgICAgICAgICAgICAgICAgICAgICAgICAgICAgICAgICAgICAgICAKICAgICAgICAgICAgICAgICAgICAgICAgICAgICAgICAgICAgICAgICAgICAgICAgICAgICAgICAgICAgICAgICAgICAgICAgICAgICAgICAgICAgICAgICAgICAgICAgICAgIAogICAgICAgICAgICAgICAgICAgICAgICAgICAgICAgICAgICAgICAgICAgICAgICAgICAgICAgICAgICAgICAgICAgICAgICAgICAgICAgICAgICAgICAgICAgICAgICAgICAgCiAgICAgICAgICAgICAgICAgICAgICAgICAgICAgICAgICAgICAgICAgICAgICAgICAgICAgICAgICAgICAgICAgICAgICAgICAgICAgICAgICAgICAgICAgICAgICAgICAgICAKICAgICAgICAgICAgICAgICAgICAgICAgICAgICAgICAgICAgICAgICAgICAgICAgICAgICAgICAgICAgICAgICAgICAgICAgICAgICAgICAgICAgICAgICAgICAgICAgICAgIAogICAgICAgICAgICAgICAgICAgICAgICAgICAgICAgICAgICAgICAgICAgICAgICAgICAgICAgICAgICAgICAgICAgICAgICAgICAgICAgICAgICAgICAgICAgICAgICAgICAgCiAgICAgICAgICAgICAgICAgICAgICAgICAgICAgICAgICAgICAgICAgICAgICAgICAgICAgICAgICAgICAgICAgICAgICAgICAgICAgICAgICAgICAgICAgICAgICAgICAgICAKICAgICAgICAgICAgICAgICAgICAgICAgICAgICAgICAgICAgICAgICAgICAgICAgICAgICAgICAgICAgICAgICAgICAgICAgICAgICAgICAgICAgICAgICAgICAgICAgICAgIAogICAgICAgICAgICAgICAgICAgICAgICAgICAgICAgICAgICAgICAgICAgICAgICAgICAgICAgICAgICAgICAgICAgICAgICAgICAgICAgICAgICAgICAgICAgICAgICAgICAgCiAgICAgICAgICAgICAgICAgICAgICAgICAgICAgICAgICAgICAgICAgICAgICAgICAgICAgICAgICAgICAgICAgICAgICAgICAgICAgICAgICAgICAgICAgICAgICAgICAgICAKICAgICAgICAgICAgICAgICAgICAgICAgICAgICAgICAgICAgICAgICAgICAgICAgICAgICAgICAgICAgICAgICAgICAgICAgICAgICAgICAgICAgICAgICAgICAgICAgICAgIAogICAgICAgICAgICAgICAgICAgICAgICAgICAgPD94cGFja2V0IGVuZD0ndyc/Pv/bAEMABwUFBgUEBwYFBggHBwgKEQsKCQkKFQ8QDBEYFRoZGBUYFxseJyEbHSUdFxgiLiIlKCkrLCsaIC8zLyoyJyorKv/bAEMBBwgICgkKFAsLFCocGBwqKioqKioqKioqKioqKioqKioqKioqKioqKioqKioqKioqKioqKioqKioqKioqKioqKv/AABEIAHoBUwMBIgACEQEDEQH/xAAfAAABBQEBAQEBAQAAAAAAAAAAAQIDBAUGBwgJCgv/xAC1EAACAQMDAgQDBQUEBAAAAX0BAgMABBEFEiExQQYTUWEHInEUMoGRoQgjQrHBFVLR8CQzYnKCCQoWFxgZGiUmJygpKjQ1Njc4OTpDREVGR0hJSlNUVVZXWFlaY2RlZmdoaWpzdHV2d3h5eoOEhYaHiImKkpOUlZaXmJmaoqOkpaanqKmqsrO0tba3uLm6wsPExcbHyMnK0tPU1dbX2Nna4eLj5OXm5+jp6vHy8/T19vf4+fr/xAAfAQADAQEBAQEBAQEBAAAAAAAAAQIDBAUGBwgJCgv/xAC1EQACAQIEBAMEBwUEBAABAncAAQIDEQQFITEGEkFRB2FxEyIygQgUQpGhscEJIzNS8BVictEKFiQ04SXxFxgZGiYnKCkqNTY3ODk6Q0RFRkdISUpTVFVWV1hZWmNkZWZnaGlqc3R1dnd4eXqCg4SFhoeIiYqSk5SVlpeYmZqio6Slpqeoqaqys7S1tre4ubrCw8TFxsfIycrS09TV1tfY2dri4+Tl5ufo6ery8/T19vf4+fr/2gAMAwEAAhEDEQA/APpGiisjWfE+m6DdW1rf/bHuLpJJIYrOwnunZUKB2IiRiADIgycfeFAGvRXN/wDCeaR/z5+IP/Cc1D/4xR/wnmkf8+fiD/wnNQ/+MUAdJRXN/wDCeaR/z5+IP/Cc1D/4xR/wnmkf8+fiD/wnNQ/+MUAdJRXN/wDCeaR/z5+IP/Cc1D/4xR/wnmkf8+fiD/wnNQ/+MUAdJRXLW3xF0G8tYrqzi1ye3mQSRSxeHr9kkUjIZSIcEEHIIqX/AITzSP8Anz8Qf+E5qH/xigDpKK5v/hPNI/58/EH/AITmof8Axij/AITzSP8Anz8Qf+E5qH/xigDpKK5v/hPNI/58/EH/AITmof8Axij/AITzSP8Anz8Qf+E5qH/xigDpKK5v/hPNI/58/EH/AITmof8Axij/AITzSP8Anz8Qf+E5qH/xigDpKK5v/hPNI/58/EH/AITmof8Axij/AITzSP8Anz8Qf+E5qH/xigDpKK5v/hPNI/58/EH/AITmof8Axiorb4i6DeWsV1Zxa5PbzIJIpYvD1+ySKRkMpEOCCDkEUAdTRXN/8J5pH/Pn4g/8JzUP/jFH/CeaR/z5+IP/AAnNQ/8AjFAHSUVzf/CeaR/z5+IP/Cc1D/4xR/wnmkf8+fiD/wAJzUP/AIxQB0lFc3/wnmkf8+fiD/wnNQ/+MUf8J5pH/Pn4g/8ACc1D/wCMUAdJRXN/8J5pH/Pn4g/8JzUP/jFH/CeaR/z5+IP/AAnNQ/8AjFAHSUVzf/CeaR/z5+IP/Cc1D/4xUVz8RdBs7WW6vItcgt4UMkssvh6/VI1AyWYmHAAAySaAOporm/8AhPNI/wCfPxB/4Tmof/GKP+E80j/nz8Qf+E5qH/xigDpKK5v/AITzSP8Anz8Qf+E5qH/xij/hPNI/58/EH/hOah/8YoA6Siub/wCE80j/AJ8/EH/hOah/8Yo/4TzSP+fPxB/4Tmof/GKAOkorm/8AhPNI/wCfPxB/4Tmof/GKP+E80j/nz8Qf+E5qH/xigDpKK5v/AITzSP8Anz8Qf+E5qH/xij/hPNI/58/EH/hOah/8YoA6SiuWufiLoNnay3V5FrkFvChklll8PX6pGoGSzEw4AAGSTXU0AFFFFABXN33/ACVPQv8AsC6l/wCj7Gukrm77/kqehf8AYF1L/wBH2NAHSUUUUAFZWr+J9E0BtusalBaN5ZmIkb7sYOC59FyQMnjJA61q14X4s8GeMNY1LxgDo8t0us6nZW8c6zRcafGdzBAzjHI5Bxye9LW9v67fr91x6Wv/AF/X62PcLe4iu7WK4tnEkMyB43XoykZB/KpKjt4xFbRRhFjCIFCKchcDoKkqna+hKvbU5v4cf8ks8Kf9gWz/APRCVh/E7xb4i8H2ttqGkNozwvdRW62N3u867LsAdjbgFxnuD0yT2rc+HH/JLPCn/YFs/wD0Qlcj8QdM13xsmr+FrzwWk1tIF/svW/tMRSEnGXcEh1IOeFBJ6YxzU63Vila2p6ipJUEjBI5GelLVfT7X7DplraGRpfs8KReY3VtoAyfrirFU7X0Jje2oUUUUhhRRRQAUUUUAFc38OP8AklnhT/sC2f8A6ISukrm/hx/ySzwp/wBgWz/9EJQBkfEX4gy+EZ9HstNt1uLrUNRt7aV3GUt45Gxk4I+YhWwPYntz3deNfEX4YeKtUu7O40PXbq9jk16O+ktmht0FovP70O2GfYMAKSeO3FexxqyxqrsXYAAsRjJ9aI/Drvf9EEvi02t+rHUUUUAFFFFABRRRQAVzfxH/AOSWeK/+wLef+iHrpK5v4j/8ks8V/wDYFvP/AEQ9AHSV5PqXxM1q9+J8/hjwrqXhSOO2nW3ki1R5xcu+AX2BcI2MkBc5ypr1ivLfFnhD/hORf2Vz4NGkapa3qPp+tRyREOokB83epDjjOUIPbvyBfGu39f1YH8LPUqKAMADr70UAFFFFABRRRQAUUUUAc38R/wDklniv/sC3n/oh66Sub+I//JLPFf8A2Bbz/wBEPXSUAFFFFABXG+I7C51H4k6BFZ6teaU66TqLGazSFnYedZDafNjdcc54GeBz1z2Vc3ff8lT0L/sC6l/6PsaAK1/o93pdm93qXxG1m0to8bpp005FXPA5NrjrTdP0u41a3abTPiPrN3EjmNmgTTnCsOqnFrwR6Gud+PRYeFNAVTjd4iswfQ/f61N8LnitfF/jzTbj95qcOqLcXdyg2RSiRMrsQk7MAEEEt657BpXTb8/wt/mEtLfL8b/5Gza2L31/NZWXxN1W5uoF3SwQ/wBmu8YzjLKLbI59avf8Ivq//Q9+IP8Avxp//wAi1y3wgjXVr7xZ4wCADWdVeO3YDGYIfkQ/id35V6bS6L0X4h1a8zm/+EX1f/oe/EH/AH40/wD+RaP+EX1f/oe/EH/fjT//AJFrpKKAPO/APhzVJ/ht4ali8aa5bJJpNqywxQ2JSMGFSFXdbFsDoMkn1JroP+EX1f8A6HvxB/340/8A+RaPhx/ySzwp/wBgWz/9EJUfiHUtek/tLS9P8OXZhe1lWHVFuYAgcxEj5N/mfe4+719qmTsmxxV3YzdPB1S8S2sviL4hd5Fd4SbSxVZ1Q4YxsbQBwCR0J6+laNzoGo2drLc3Xj/XooIUMkkjw6eAqgZJP+i+lcbpIM1j8I008HfHEzyY6rGtoVkz/wACKg++K6zxtd3vmw2g0PUNR00RNPO1n5RDuPuI291O0H5jjOcKPWqqe4nbpf8AAUPet52Mua9SHw9aa3/wsDxRNZXkPnwm30y0mdo8ZLlEsywUAjJIAGa19P0a91TTre/0/wCIWvXFrcxrLDKkGn4dSMgj/Ray/AI1HVfghpMGln+yrw6ckMU95AJV+4PnCq/IPbJHuO1bXw5nkn+Hejmazhsnjg8nyYCTHhCUDLnnawXcM9jVSVpSXb/gkp3SY7/hF9X/AOh78Qf9+NP/APkWj/hF9X/6HvxB/wB+NP8A/kWukoqSjm/+EX1f/oe/EH/fjT//AJFo/wCEX1f/AKHvxB/340//AORa6SigDm/+EX1f/oe/EH/fjT//AJFrn/APhzVJ/ht4ali8aa5bJJpNqywxQ2JSMGFSFXdbFsDoMkn1Jr0Sub+HH/JLPCn/AGBbP/0QlACHwxqyqS3jzXwBySYNP4/8laytMU6vcLBYfETxC7yRGaLdZ2SCaMHBdC1oA65I5Geo7EZn8X6j4gutH1/SrHw3eJE2n3CwakLmEozeUduED+Zknj7vWsKx/wBI1z4Xf2ZykelzySFf4Yfs8a8+28oPrRHV/d+N/wDIHp+P4W/zOh1HSrvSbYT6h8QtfiRnEaD7PYMzueiqotSWY+gBNZms3aeH1tv7X+IPiiF7pWaKJNMtZnwMZJWOzYr1HXFJ4gs73VvjJY2q6jLp8dpoktxYyJGj/v2kCOwDgqSF2jpnDHpnNXdH8VahP8Jk8RajBENVe3aNRGuFml3mOMj2dtpA/wBqlry839btfoP7Vv67j9FsrjxDpMWpaR8QPEU1pKWCO9nZRklWKn5XtARggjkVf/4RfV/+h78Qf9+NP/8AkWtTQdLTRPD9jpqNu+zQrGz93YD5mPuTk/jWhVOyehK1Rzf/AAi+r/8AQ9+IP+/Gn/8AyLR/wi+r/wDQ9+IP+/Gn/wDyLXSUUhnN/wDCL6v/AND34g/78af/APItc/4+8OapB8NvEssvjTXLlI9JumaGWGxCSAQsSrbbYNg9Dgg+hFeiVzfxH/5JZ4r/AOwLef8Aoh6AD/hF9X/6HvxB/wB+NP8A/kWmv4a1SKNpJPHuvIigszNDp4AA6k/6LXTVwHjnUPEGpeDfFWnReG7yzRdOuBBfG5hdZ8DGFRHLjcMkZA96mTsmyoq7SJtLjfWZvKsPiF4iZzCJ0WSzso/MiJwJF3Wg3LnuPb1FO1G3n0u5Fvc+PvErz+UZ2jgsbKVkjBwXYJaHAz69ecZxVGIi5+Ingd9M+aCPQ7mSZk6eSywhM+xYcfSofHdlqeoeMj/wiFw1trNrpBe6WR9sd7bNIQIRwdr5DkP/AA5HXdxU/d/H8L/5a/MmHvK78vxt/np8jU1CE6Z4bk1+8+JGuJpiQic3Ig09lKEZBGLXnORgDrmtCLw3qs0SSR+PPEBV1DKfI0/kH/t1rz7xfqral8MJmtPDGpxaJFoG+x8vyjFEzQ43PmQN8inaMA9WPPFes6FcNd6BZTSW01qzQrmGfbvXjvtJH61TWr8v+D/kK+kfP/gf5mV/wi+r/wDQ9+IP+/Gn/wDyLR/wi+r/APQ9+IP+/Gn/APyLXSUVIzm/+EX1f/oe/EH/AH40/wD+RaP+EX1f/oe/EH/fjT//AJFrpKKAPO/H3hzVIPht4lll8aa5cpHpN0zQyw2ISQCFiVbbbBsHocEH0Ir0Sub+I/8AySzxX/2Bbz/0Q9dJQAUUUUAFcb4jv7nTviToEtnpN5qrtpOoqYbN4VdR51kdx82RFxxjg55HHXHZVzd9/wAlT0L/ALAupf8Ao+xoA4v4n2viXxvoel2GneC9ZhNrq0F5M013ZJmNN24KVuSd3zDHT6itfTrVNKtNRgs/h94mU6nIZbyY6jaGadiMZMn2zd04GDxU/wAWvFGp+FvC+nzaLMLe4vtVt7JpvLDtGjklioYEZwuOQetV/BWr+I9fsPE8C6iga21J7fTri8gAngj4OZYsKQQDlQwUnjPFPeLXr+n/AAAejT9P1/4Ja8PTP4V0aLStC+HniK2sYSTHC17ZSbcnJwXuyepPetT/AISjV/8AoRPEH/f/AE//AOSq534Z6t4pm8T+K9D8S6mutW2kXMcdvqX2dYS7Mu5kIUYyoK/TP0r0ah62ffUWza7HN/8ACUav/wBCJ4g/7/6f/wDJVH/CUav/ANCJ4g/7/wCn/wDyVXSUUhnnfgHxHqkHw28NRReC9cuUj0m1VZoprEJIBCoDLuuQ2D1GQD6gV0H/AAlGr/8AQieIP+/+n/8AyVR8OP8AklnhT/sC2f8A6ISn+O/EMvhfwXf6paor3MYSOAOMr5kjhFJ9gWB/CgDPtdQlsbqW5s/htrEE8ud8kb6crNk5PP2rueT6nmpLPV7rTrEWdj8Otat7Vd2IY5NOVBuJJ4+1Y5JJ/Gl0zVr2w+IEnhm/vJL9JdMW/hnlRFdWEmyRTtAGDlSOOOR0xit8TPEmoaL4Xvh4fkWO/hg+0STlQwt49wGcHjcxyBn0Y9qOiBbkNwtvdpaJcfCrUZEskMdshGm7YUOMqo+04C8DjpxWqniXVY41SPwFryIowqrNp4AHoP8ASqzPiLqV9o2jx6laeKI9IuPMijtLWZYRDdSMwBWQuCcYPVSu0c813CnKgnGcdqOguxzn/CUav/0IniD/AL/6f/8AJVH/AAlGr/8AQieIP+/+n/8AyVXSUUDOb/4SjV/+hE8Qf9/9P/8Akqj/AISjV/8AoRPEH/f/AE//AOSq6SigDm/+Eo1f/oRPEH/f/T//AJKrn/APiPVIPht4aii8F65cpHpNqqzRTWISQCFQGXdchsHqMgH1Ar0Sub+HH/JLPCn/AGBbP/0QlAB/wlGr/wDQieIP+/8Ap/8A8lVQtr17NpzafDTV4TcArKUbThvBJJB/0rpkk49SfWtDx34gn8OeFZLuxC/a554bS3LDIV5ZFQMR3xuzj2qDR9Xu7fx7qPhi+upLxY7GG/t55VUPtZmR1O0AH5lBHH8RHYULX+vK/wCQbf152/MpSTLLY2tnJ8MNVa2s1228RbTtsIxjC/6VwMcY7ircms3ktvFBJ8O9baGFkeOPzdO2oUIKkD7VxggY9MV1lFAHN/8ACUav/wBCJ4g/7/6f/wDJVH/CUav/ANCJ4g/7/wCn/wDyVXSUUAc3/wAJRq//AEIniD/v/p//AMlUf8JRq/8A0IniD/v/AKf/APJVdJRQBzf/AAlGr/8AQieIP+/+n/8AyVXP+PvEeqT/AA28SxS+C9ctkk0m6VppZrEpGDCwLNtuS2B1OAT6A16JXN/Ef/klniv/ALAt5/6IegA/4SjV/wDoRPEH/f8A0/8A+SqP+Eo1f/oRPEH/AH/0/wD+Sq6SsjxXrg8NeEdU1ox+Z9htZJwh/iIGQPxOKTdldjSbdkYVvdG1huIbb4ZatFHcpsmRG04CReflP+k9OTx05NNmmFxDbRTfDHVnjtY/KgUtp2I0wBsH+lcLgDjpxRpmt6pp3irQdK1a9a9Gt6bJOS6IvlTxhGYLtA+QhzwckbRzyaseObfX10q+1PSPEZ0ePT7Vp440to5FmdQWPml1J2nAAC4PU5PADl7qu/6tdCj7239XHza3e3Ni9lcfDvWpbV08t4JH05o2TGNpU3WCMdqmXxNqqKFTwHr6qowAJtPAA/8AAquf8VeKtWstH0SS9k1Lw/FcWq3Go6lZ6etylo5C/u3Dhtq5LEtg4wPU131j/wAg63zdG8/dL/pJCjzuPv8AygDnrwMc02nqJNWRhf8ACUav/wBCJ4g/7/6f/wDJVH/CUav/ANCJ4g/7/wCn/wDyVXSUUhnN/wDCUav/ANCJ4g/7/wCn/wDyVR/wlGr/APQieIP+/wDp/wD8lV0lFAHnfj7xHqk/w28SxS+C9ctkk0m6VppZrEpGDCwLNtuS2B1OAT6A16JXN/Ef/klniv8A7At5/wCiHrpKACiiigArm77/AJKnoX/YF1L/ANH2NdJXG+I9JttZ+JOgW95JeRouk6i4NnezWr586yHLxMrEc9CcdDjgUAc/8fN//CK+HhCoaQ+I7MIrHAY/PgZwcflV3RvCXinSbnxlrto2mx61r8yNaW8k7tBbhF2qzsEyTyTgL2Az6WfEvhjwbomlpfeJL7Wlto50ERk17UJD5xOE2KJiS2TxgZpthY+DdSs7+5tdY8QbdOlMF2kmv6kkkMg/hKGbOfTA57Zo05WvX9P8kHVfL9f8yT4c6F4z0KOa28WSaCLVVLRDSfOZ5pmbLyytKMlj7ep9BXdV574atvBfi1r1ND1fxFLNYyCO5hl1zVIZImOcZR5QRnB7Vvf8IHpH/P54g/8ACj1D/wCP02JHSUVzf/CB6R/z+eIP/Cj1D/4/R/wgekf8/niD/wAKPUP/AI/SGHw4/wCSWeFP+wLZ/wDohKteL/Dw8U+E73SDL5LzqDFKRkJIrB0JHoGUV4V4Yt5z4Q0Yrq+uRg2EBCRa1doi/u14VVkAUegAAHatT7Pcf9BvxB/4Pbz/AOO0AenQaLq//CSXfii5tbRtRXTVsbSzW5IjOGLuWk2cbmwB8pwF98Cn41+HKeJtH1Y2N3d22pajGu5TqMyWxZQoG5FOCMD+7Xnv2e4/6DfiD/we3n/x2j7Pcf8AQb8Qf+D28/8AjtAbanp+t6Lqeo6FdeGI7G2n0y4s/s/269vnlkGRglkKEsR1B38nuK6aztlsrGC1jLMkEaxqWOSQBjn8q8K+z3H/AEG/EH/g9vP/AI7R9nuP+g34g/8AB7ef/HaBW28j3uivBPs9x/0G/EH/AIPbz/47R9nuP+g34g/8Ht5/8doGe90V4J9nuP8AoN+IP/B7ef8Ax2pbW0mkvIUfWvEBVpFBH9vXnIz/ANdaAPdq5v4cf8ks8Kf9gWz/APRCV5SttcFwDrfiDr/0Hbz/AOO123gHwVpd18NvDVxLda4rzaTauwi1++jQEwqTtRZgqj0AAA6AUAdR4x8PHxP4blsIpVhuFkjuLeRx8qyxuHTPtlcH2JqDR9Buh4u1DxLqqxRXNzaxWcMEUhcRxoWYksQMlmY9uABVDWfDXh3QdIuNS1G/8QpbwLltviLUCzEnAUDz+SSQAPU1BpWhaFqd/d2DyeJrO+s1R5bafxJfbgjglWBW4IIOCOvVSKF5f10/IHt/X9bnc0Vw99oOgWmrQ6VDP4ku9QmjMot4PEd/lIwceY5NwAq5455J6A4NZPiBNG8PzXKvpPju/htIvNuLqz127MMY27iNz3S5IHJwD1pX6jtrY9OorlLPwZo97YwXQn8SQiaNZBHL4ivw6ZGcMBOeRnnmp/8AhA9I/wCfzxB/4Ueof/H6pqzsyU7q6Okorm/+ED0j/n88Qf8AhR6h/wDH6P8AhA9I/wCfzxB/4Ueof/H6QzpK5v4j/wDJLPFf/YFvP/RD0f8ACB6R/wA/niD/AMKPUP8A4/XP+PvBWl2vw28S3EV1rjPDpN06iXX76RCRCxG5GmKsPUEEHoRQB6JXK6l8O9D1C31hQLuObVreWCaR76eRV8zqVjZygwcEYAx0FTf8IHpH/P54g/8ACj1D/wCP1Q1rw54d0HS5L+/vfEXlqyoqJ4i1AtI7MFVFHn8ksQB9aTSY02mLY+G9XbWtN1fVUtWudF0yS0tYopm2zzOFDSElfkBCAAYJG4+gyviC28Z6jdWf2HTdCkso0WWa3u9RmXdOOcHbAdyKenTJwSBjFQaToGg6rdXtn53iW1vbF1W4tpvEl9uQMu5WytwQQR0IPYjtWRq7eHdE1RIL218Z/wBnm4W1fVV16+NtHKxCgH/Sd+MkAsF2g8ZqtW1/W/8AwX+ViVZL+v66HWXA8U3MAsrmw0iWK5s9lxOLmQCOU5DARlDvTBGOQTg5xmtfSNNi0bRLLTLdmaKzt0gRm6kKoUE/lXFarpWkadq0enW1l4z1SVgrStY+ILwpbhjhd5e6XGcE8Z4H0rd/4QPSP+fzxB/4Ueof/H6XT+v66jOkorm/+ED0j/n88Qf+FHqH/wAfo/4QPSP+fzxB/wCFHqH/AMfoA6Siub/4QPSP+fzxB/4Ueof/AB+j/hA9I/5/PEH/AIUeof8Ax+gA+I//ACSzxX/2Bbz/ANEPXSV534+8FaXa/DbxLcRXWuM8Ok3TqJdfvpEJELEbkaYqw9QQQehFeiUAFFFFABXN33/JU9C/7Aupf+j7GukrjfEcuqw/EnQG0Ozs7y4/snUQ0d5dtboF86yyQyxyEnOOMDqeeMEAwPj3k+FfDwBIz4js+R/wOq/gbXNL8M+IfHtrrFzDDBZ6rE0usXTBWuJJl4DkALlTx8oAwenU1b8f+FvGnjzSdPsJdK8PWsdpqMN6+7V5pRKE3Zjx9lGM7uvP0NaQ0HV10efSh4D8If2fcuZJrb+1pPLlYnO5h9i5PA5PPApp2X3/APtv+QPVr5f+3f5mT8PLfUtN+LXjO1vLm21SG7S3vv7ShiCNlgQsTYOOFHA9Oe9epVxuk2fiTQbEWeieDfC2n2wO7yrbWZY1z64Fn196vfbvG/8A0L3h/wD8H0//AMh0dEuwdW+50lFc39u8b/8AQveH/wDwfT//ACHR9u8b/wDQveH/APwfT/8AyHSA8b8Lf8idov8A2D7f/wBFLWrXL+G7jXh4U0gQabpzxCxgCM+oSKzL5a4JAhODjtk/U1pfafEP/QL0z/wZSf8AxigDWorJ+0+If+gXpn/gyk/+MUfafEP/AEC9M/8ABlJ/8YoA1qKyftPiH/oF6Z/4MpP/AIxR9p8Q/wDQL0z/AMGUn/xigDWorJ+0+If+gXpn/gyk/wDjFH2nxD/0C9M/8GUn/wAYoA1qnsf+Qhb/APXVf5isL7T4h/6Bemf+DKT/AOMVNZ3PiP7dBt0rSyfMXAOpyDPP/XCgDRT/AFi/UV6d8OP+SWeFP+wLZ/8AohK8bS58Rb1/4lemdf8AoJSf/GK3vBnxI12x8B6BaQeG9Omit9MtoklfV3RnCxKASotzgnGcZOPU0Adx8U7Oe78EGS3RpBZ3trdzIoyWijmVn49lBP4VTs7u1b4qa14iN7bx6PbaRbWcl48qrCZTI743k44DL/30Kzf+FpeIf+hV0z/wdyf/ACLTR8TNdEfljwlpIT+7/bL4/L7LQtP67q35A9V/XR3M/W7ea1174gXrapd6freyCfSDDcFPORYgI1VM4lBk3KVIPLdMmu38RNc6jomjaLeKFu9Xliju0Xosar5kw+hClP8AgYrmG+J2vM6s3hPSiy/dJ1qTI+n+i0p+J/iAsGPhTSyw6H+2pMj/AMlaFokvT8P8+oPV39fx/wAuh6j0ory//haXiH/oVdM/8Hcn/wAi0f8AC0vEP/Qq6Z/4O5P/AJFoA9Qory//AIWl4h/6FXTP/B3J/wDItH/C0vEP/Qq6Z/4O5P8A5FoA9Qrm/iP/AMks8V/9gW8/9EPXJ/8AC0vEP/Qq6Z/4O5P/AJFrF8Z/EjXb7wHr9pP4b06GK40y5ieVNXd2QNEwJCm3GSM5xkZ9RQB7VXGfE61ll0DTLtFLQ6drFneXIHaFJBub6LncfYGr/wBu8b/9C94f/wDB9P8A/IdH27xv/wBC74f/APB9P/8AIdHVPtZ/dqHRrv8AqY2kXNsnxK8UeIJbyCHSfs1lYrdPKqxSTDeSAxOCR5ir9TjrUHizxt4PvdY/4R3VdfsIYrO4jlvYmlBeWRGDpCqjkncFLfTb1Jxui58ZiMRjw14dCDov9uzYH4fY6f8AbvG//QveH/8AwfT/APyHQunl/wAP+Yd/P/hjm/FFnod3rkuqeE9SWHxjbXUMckVvdHfOMqDFNFnBTYc5I4xnPFekVzAuvGiyNIPDXh0OwwWGuzZP4/Y6f9u8b/8AQveH/wDwfT//ACHRsrB1udJRXN/bvG//AEL3h/8A8H0//wAh0fbvG/8A0L3h/wD8H0//AMh0AdJRXN/bvG//AEL3h/8A8H0//wAh0fbvG/8A0L3h/wD8H0//AMh0AHxH/wCSWeK/+wLef+iHrpK878fXnjFvht4lW80LQ4rc6TdCWSLWpndV8lslVNqoYgdASM+o616JQAUUUUAFc3ff8lT0L/sC6l/6Psa6Subvv+Sp6F/2BdS/9H2NAHP/ABq1nUNH8J6X/ZV3PaPe61a2sr28hRzGxYsoYYIztAyCKZ8OdXlt38XjWtRljisNTYpYXcpkl0+IqCqs2W3BuoCsw7A54qD462t1eeGPD8NjE0kx8RWhXbGX2/f5IHYfhWtpHwzs1uPEV14neHVpvEFzHNcxrEYokWMfu1A3E8dck9apaRb9f/bf+CEt0vT/ANu/4BR8Na5rfib4vauJ5JLTSNFs440sgxGZpvmBlxwWCDp/Dux1yT6NXHeAfhxpngJdRktPLmu7+5eV51iMeyMnKRAbm4Ud8812NLSyQa3bCiiikB87+Fv+RO0X/sH2/wD6KWtWs7wrbzN4N0QrFIQdOt8EKf8AnktaJBUkEYI4IPagAooooAKKKKACiiigAqex/wCQhb/9dV/mKgqexGdRtgOvmr/MUAQp/rF+orI8Kf8AIm6L/wBeEH/ota3Etp/MX9zJ1/uGsfwnbzN4L0QiKQg6fAQQp5/drQBpUUEFWIIwQcEHtRQAUUUUAFFFFABRRRQAVk+K/wDkTda/68J//RbVrAFiABkngAd6zfFlvMvgvWyYpABp85JKnj921AH0LXJ+P9VurG30Sws5XgOr6vBZSyxsVZIzuZ9pHIJCEZHIzxXWVj+JNATxBY28Yl8i5s7qK8tZtu4RyxnIyMjIIyCMjgmjqvVfdfUOj9GZHhXUJ08Z+KPDzyyTW2nPbzWxlcuyLNHkpuJJIDKSM9N2OgFcv4m1y9svHV5o91dz213f3NsdG1BbpltrdSF3RSqDgOSshAYHzNwHbjtbDw7eabLquo213bNq+qzxyTzSwM0SogCiNVDg8KDzn7xJxjiqGq+BG1L+27RruE6frc6XFwssBaWF1VF/dtux0jUjI+U5PPShbpv+tv6v/mHR/wBf16f5FDxzq9/Lf6Sul3UlvZW+uWdvcvE2PtDtIN0ef7qj73qTj+EivQK4vxF8K/DWvSQzLpljbXC38d5PKLUM04D7nQ8j73c8/Q12aIscapGoVVACgdhRH4bPe/6IH8V12/Vi0UUUAFFFFAHN/Ef/AJJZ4r/7At5/6Ieukrm/iP8A8ks8V/8AYFvP/RD10lABRRRQAVm6v4c0PxB5P9vaNp+p+Ru8r7bapN5e7Gdu4HGcDOPQVpUUAc3/AMK48Ef9Cb4f/wDBXB/8TR/wrjwR/wBCb4f/APBXB/8AE10lFAHN/wDCuPBH/Qm+H/8AwVwf/E0f8K48Ef8AQm+H/wDwVwf/ABNdJRQBzf8AwrjwR/0Jvh//AMFcH/xNH/CuPBH/AEJvh/8A8FcH/wATXSUUAc3/AMK48Ef9Cb4f/wDBXB/8TR/wrjwR/wBCb4f/APBXB/8AE10lFAHN/wDCuPBH/Qm+H/8AwVwf/E0f8K48Ef8AQm+H/wDwVwf/ABNdJRQBzf8AwrjwR/0Jvh//AMFcH/xNH/CuPBH/AEJvh/8A8FcH/wATXSUUAc3/AMK48Ef9Cb4f/wDBXB/8TR/wrjwR/wBCb4f/APBXB/8AE10lFAHN/wDCuPBH/Qm+H/8AwVwf/E0f8K48Ef8AQm+H/wDwVwf/ABNdJRQBzf8AwrjwR/0Jvh//AMFcH/xNH/CuPBH/AEJvh/8A8FcH/wATXSUUAc3/AMK48Ef9Cb4f/wDBXB/8TR/wrjwR/wBCb4f/APBXB/8AE10lFAHN/wDCuPBH/Qm+H/8AwVwf/E0f8K48Ef8AQm+H/wDwVwf/ABNdJRQBzf8AwrjwR/0Jvh//AMFcH/xNH/CuPBH/AEJvh/8A8FcH/wATXSUUAc3/AMK48Ef9Cb4f/wDBXB/8TR/wrjwR/wBCb4f/APBXB/8AE10lFAHN/wDCuPBH/Qm+H/8AwVwf/E0f8K48Ef8AQm+H/wDwVwf/ABNdJRQBzf8AwrjwR/0Jvh//AMFcH/xNH/CuPBH/AEJvh/8A8FcH/wATXSUUAc3/AMK48Ef9Cb4f/wDBXB/8TR/wrjwR/wBCb4f/APBXB/8AE10lFAHN/wDCuPBH/Qm+H/8AwVwf/E0f8K48Ef8AQm+H/wDwVwf/ABNdJRQBzf8AwrjwR/0Jvh//AMFcH/xNH/CuPBH/AEJvh/8A8FcH/wATXSUUAc3/AMK48Ef9Cb4f/wDBXB/8TR/wrjwR/wBCb4f/APBXB/8AE10lFAHN/wDCuPBH/Qm+H/8AwVwf/E10lFFABRRRQB//2Q==)"
      ],
      "metadata": {
        "id": "SUhmKlMuyyVO"
      }
    },
    {
      "cell_type": "code",
      "source": [
        "#Return Series\n",
        "df_Series=df.iloc[:,0]\n",
        "df_Series"
      ],
      "metadata": {
        "colab": {
          "base_uri": "https://localhost:8080/",
          "height": 0
        },
        "id": "NU7L5spMf9tk",
        "outputId": "fc3ce895-a509-4fc9-95c8-32937c4f6ca7"
      },
      "execution_count": 5,
      "outputs": [
        {
          "output_type": "execute_result",
          "data": {
            "text/plain": [
              "Month\n",
              "1949-01    112\n",
              "1949-02    118\n",
              "1949-03    132\n",
              "1949-04    129\n",
              "1949-05    121\n",
              "          ... \n",
              "1960-08    606\n",
              "1960-09    508\n",
              "1960-10    461\n",
              "1960-11    390\n",
              "1960-12    432\n",
              "Name: Passengers, Length: 144, dtype: int64"
            ]
          },
          "metadata": {},
          "execution_count": 5
        }
      ]
    },
    {
      "cell_type": "code",
      "source": [
        "dataset = df_Series.values\n",
        "dataset.shape"
      ],
      "metadata": {
        "colab": {
          "base_uri": "https://localhost:8080/",
          "height": 0
        },
        "id": "IpgDvJbCh-Om",
        "outputId": "81b9bd00-65df-46cd-bf44-1d4b42e3442c"
      },
      "execution_count": 6,
      "outputs": [
        {
          "output_type": "execute_result",
          "data": {
            "text/plain": [
              "(144,)"
            ]
          },
          "metadata": {},
          "execution_count": 6
        }
      ]
    },
    {
      "cell_type": "code",
      "source": [
        "dataset=dataset.reshape(1, 144)\n",
        "dataset.shape"
      ],
      "metadata": {
        "colab": {
          "base_uri": "https://localhost:8080/",
          "height": 0
        },
        "id": "vMuSKOLpma2p",
        "outputId": "1f36aa1e-1498-4d8e-89e2-138fd5aa0670"
      },
      "execution_count": 7,
      "outputs": [
        {
          "output_type": "execute_result",
          "data": {
            "text/plain": [
              "(1, 144)"
            ]
          },
          "metadata": {},
          "execution_count": 7
        }
      ]
    },
    {
      "cell_type": "code",
      "source": [
        "scaler = TimeSeriesScalerMeanVariance(mu=0., std=1.) \n",
        "dataset = scaler.fit_transform(dataset)\n",
        "dataset"
      ],
      "metadata": {
        "colab": {
          "base_uri": "https://localhost:8080/",
          "height": 0
        },
        "id": "5qavayAhmsB3",
        "outputId": "7d46d5a3-d85e-41c5-b73f-4949ec11aeee"
      },
      "execution_count": 8,
      "outputs": [
        {
          "output_type": "execute_result",
          "data": {
            "text/plain": [
              "array([[[-1.40777884],\n",
              "        [-1.35759023],\n",
              "        [-1.24048348],\n",
              "        [-1.26557778],\n",
              "        [-1.33249593],\n",
              "        [-1.21538918],\n",
              "        [-1.10664719],\n",
              "        [-1.10664719],\n",
              "        [-1.20702441],\n",
              "        [-1.34922546],\n",
              "        [-1.47469699],\n",
              "        [-1.35759023],\n",
              "        [-1.38268454],\n",
              "        [-1.29067209],\n",
              "        [-1.16520057],\n",
              "        [-1.21538918],\n",
              "        [-1.29903686],\n",
              "        [-1.09828242],\n",
              "        [-0.9226223 ],\n",
              "        [-0.9226223 ],\n",
              "        [-1.02299951],\n",
              "        [-1.23211871],\n",
              "        [-1.3910493 ],\n",
              "        [-1.17356534],\n",
              "        [-1.1317415 ],\n",
              "        [-1.08991766],\n",
              "        [-0.85570415],\n",
              "        [-0.98117567],\n",
              "        [-0.90589276],\n",
              "        [-0.85570415],\n",
              "        [-0.68004402],\n",
              "        [-0.68004402],\n",
              "        [-0.80551554],\n",
              "        [-0.98954044],\n",
              "        [-1.12337673],\n",
              "        [-0.95608137],\n",
              "        [-0.91425753],\n",
              "        [-0.83897462],\n",
              "        [-0.73023263],\n",
              "        [-0.83060985],\n",
              "        [-0.81388031],\n",
              "        [-0.52111343],\n",
              "        [-0.42073621],\n",
              "        [-0.320359  ],\n",
              "        [-0.59639634],\n",
              "        [-0.74696217],\n",
              "        [-0.90589276],\n",
              "        [-0.72186786],\n",
              "        [-0.70513833],\n",
              "        [-0.70513833],\n",
              "        [-0.37054761],\n",
              "        [-0.37891237],\n",
              "        [-0.42910098],\n",
              "        [-0.31199423],\n",
              "        [-0.1363341 ],\n",
              "        [-0.06941596],\n",
              "        [-0.36218284],\n",
              "        [-0.57966681],\n",
              "        [-0.83897462],\n",
              "        [-0.66331449],\n",
              "        [-0.63822018],\n",
              "        [-0.77205647],\n",
              "        [-0.37891237],\n",
              "        [-0.44583052],\n",
              "        [-0.38727714],\n",
              "        [-0.1363341 ],\n",
              "        [ 0.18152708],\n",
              "        [ 0.10624417],\n",
              "        [-0.17815794],\n",
              "        [-0.42910098],\n",
              "        [-0.64658495],\n",
              "        [-0.42910098],\n",
              "        [-0.320359  ],\n",
              "        [-0.39564191],\n",
              "        [-0.1112398 ],\n",
              "        [-0.09451026],\n",
              "        [-0.08614549],\n",
              "        [ 0.29026907],\n",
              "        [ 0.7001427 ],\n",
              "        [ 0.55794164],\n",
              "        [ 0.26517476],\n",
              "        [-0.05268642],\n",
              "        [-0.36218284],\n",
              "        [-0.01922735],\n",
              "        [ 0.03096126],\n",
              "        [-0.02759212],\n",
              "        [ 0.3069986 ],\n",
              "        [ 0.27353953],\n",
              "        [ 0.31536337],\n",
              "        [ 0.78379038],\n",
              "        [ 1.11001633],\n",
              "        [ 1.04309819],\n",
              "        [ 0.62485979],\n",
              "        [ 0.21498616],\n",
              "        [-0.07778072],\n",
              "        [ 0.21498616],\n",
              "        [ 0.29026907],\n",
              "        [ 0.17316232],\n",
              "        [ 0.63322456],\n",
              "        [ 0.56630641],\n",
              "        [ 0.62485979],\n",
              "        [ 1.18529925],\n",
              "        [ 1.54498427],\n",
              "        [ 1.56171381],\n",
              "        [ 1.03473342],\n",
              "        [ 0.55794164],\n",
              "        [ 0.20662139],\n",
              "        [ 0.4659292 ],\n",
              "        [ 0.49938827],\n",
              "        [ 0.31536337],\n",
              "        [ 0.68341317],\n",
              "        [ 0.56630641],\n",
              "        [ 0.69177793],\n",
              "        [ 1.29404123],\n",
              "        [ 1.76246824],\n",
              "        [ 1.87957499],\n",
              "        [ 1.03473342],\n",
              "        [ 0.65831886],\n",
              "        [ 0.24844523],\n",
              "        [ 0.47429396],\n",
              "        [ 0.66668363],\n",
              "        [ 0.5161178 ],\n",
              "        [ 1.05146296],\n",
              "        [ 0.96781528],\n",
              "        [ 1.16856971],\n",
              "        [ 1.60353765],\n",
              "        [ 2.23926002],\n",
              "        [ 2.33127247],\n",
              "        [ 1.52825474],\n",
              "        [ 1.05982773],\n",
              "        [ 0.68341317],\n",
              "        [ 1.04309819],\n",
              "        [ 1.14347541],\n",
              "        [ 0.92599144],\n",
              "        [ 1.16020494],\n",
              "        [ 1.5115252 ],\n",
              "        [ 1.60353765],\n",
              "        [ 2.13051803],\n",
              "        [ 2.85825285],\n",
              "        [ 2.72441656],\n",
              "        [ 1.9046693 ],\n",
              "        [ 1.5115252 ],\n",
              "        [ 0.91762667],\n",
              "        [ 1.26894693]]])"
            ]
          },
          "metadata": {},
          "execution_count": 8
        }
      ]
    },
    {
      "cell_type": "code",
      "source": [
        "sax = SymbolicAggregateApproximation(n_segments= 12,  alphabet_size_avg=3)\n",
        "sax"
      ],
      "metadata": {
        "colab": {
          "base_uri": "https://localhost:8080/",
          "height": 0
        },
        "id": "APhzlv6anNUc",
        "outputId": "c714d864-1309-49ff-c9e9-7c02edef2dba"
      },
      "execution_count": 20,
      "outputs": [
        {
          "output_type": "execute_result",
          "data": {
            "text/plain": [
              "SymbolicAggregateApproximation(alphabet_size_avg=3, n_segments=12)"
            ]
          },
          "metadata": {},
          "execution_count": 20
        }
      ]
    },
    {
      "cell_type": "code",
      "source": [
        "#Fit a SAX representation and transform the data accordingly.\n",
        "sax.fit_transform(dataset)"
      ],
      "metadata": {
        "colab": {
          "base_uri": "https://localhost:8080/",
          "height": 0
        },
        "id": "FB3-mNauuRTm",
        "outputId": "899c5a88-2077-4f05-8219-848a32285fef"
      },
      "execution_count": 21,
      "outputs": [
        {
          "output_type": "execute_result",
          "data": {
            "text/plain": [
              "array([[[0],\n",
              "        [0],\n",
              "        [0],\n",
              "        [0],\n",
              "        [0],\n",
              "        [1],\n",
              "        [1],\n",
              "        [1],\n",
              "        [2],\n",
              "        [2],\n",
              "        [2],\n",
              "        [2]]])"
            ]
          },
          "metadata": {},
          "execution_count": 21
        }
      ]
    },
    {
      "cell_type": "code",
      "source": [
        "#Compute time series corresponding to given SAX representations. \n",
        "sax_dataset_inv = sax.inverse_transform(sax.fit_transform(dataset))"
      ],
      "metadata": {
        "id": "YEzJ-u4mnSAM"
      },
      "execution_count": 23,
      "outputs": []
    },
    {
      "cell_type": "code",
      "source": [
        "plt.plot(dataset[0].ravel(),label='Raw Time Series')\n",
        "plt.plot(sax_dataset_inv[0].ravel(), label='SAX')\n",
        "plt.legend(loc='best')\n",
        "plt.show()"
      ],
      "metadata": {
        "colab": {
          "base_uri": "https://localhost:8080/",
          "height": 266
        },
        "id": "5fr1onOmnVUb",
        "outputId": "ae6bafab-aae3-4c6c-810c-45d2d277131c"
      },
      "execution_count": 24,
      "outputs": [
        {
          "output_type": "display_data",
          "data": {
            "image/png": "[encoded data removed]",
            "text/plain": [
              "<Figure size 432x288 with 1 Axes>"
            ]
          },
          "metadata": {
            "needs_background": "light"
          }
        }
      ]
    }
  ]
}